{
 "cells": [
  {
   "cell_type": "code",
   "execution_count": 2,
   "metadata": {},
   "outputs": [],
   "source": [
    "import wave as we\n",
    "import matplotlib.pyplot as plt\n",
    "import numpy as np\n",
    "from scipy.io import wavfile\n",
    "import matplotlib.pyplot as plt\n",
    "from matplotlib.backend_bases import RendererBase\n",
    "from scipy import signal\n",
    "from scipy.io import wavfile\n",
    "import os\n",
    "# from PIL import Image\n",
    "from scipy.fftpack import fft\n",
    "import warnings\n",
    "warnings.filterwarnings(\"ignore\")\n"
   ]
  },
  {
   "cell_type": "code",
   "execution_count": 5,
   "metadata": {},
   "outputs": [
    {
     "name": "stdout",
     "output_type": "stream",
     "text": [
      "A2_1 原文：\n",
      "他 仅 凭 腰部 的 力量 在 泳道 上下 翻腾 蛹 动 蛇行 状 如 海豚 一直 以 一头 的 优势 领先\n",
      "\n",
      "A2_1 拼音：\n",
      "ta1 jin3 ping2 yao1 bu4 de5 li4 liang4 zai4 yong3 dao4 shang4 xia4 fan1 teng2 yong3 dong4 she2 xing2 zhuang4 ru2 hai3 tun2 yi4 zhi2 yi3 yi4 tou2 de5 you1 shi4 ling3 xian1\n",
      "\n"
     ]
    }
   ],
   "source": [
    "A = './data_thchs30/data/A2_1.wav'\n",
    "with open(A + '.trn',\"r\", encoding='UTF-8') as f_A:    #设置文件对象\n",
    "    wav_A = f_A.readlines()\n",
    "    \n",
    "print('A2_1 原文：')    \n",
    "print(wav_A[0])\n",
    "print('A2_1 拼音：')\n",
    "print(wav_A[1])\n"
   ]
  },
  {
   "cell_type": "code",
   "execution_count": null,
   "metadata": {},
   "outputs": [],
   "source": [
    "wav_lst = []\n",
    "pin_lst = []\n",
    "han_lst = []\n",
    "with open('data_thchs30/data.txt', 'r', encoding='utf8') as f:\n",
    "    data = f.readlines()\n",
    "for line in data:\n",
    "    wav_file, pin, han = line.split('\\t')\n",
    "    wav_lst.append(wav_file)\n",
    "    pin_lst.append(pin.split(' '))\n",
    "    han_lst.append(han.strip('\\n'))"
   ]
  },
  {
   "cell_type": "code",
   "execution_count": null,
   "metadata": {},
   "outputs": [],
   "source": [
    "wav_lst"
   ]
  },
  {
   "cell_type": "code",
   "execution_count": null,
   "metadata": {},
   "outputs": [],
   "source": []
  }
 ],
 "metadata": {
  "kernelspec": {
   "display_name": "AI1.0",
   "language": "python",
   "name": "ai1.0"
  },
  "language_info": {
   "codemirror_mode": {
    "name": "ipython",
    "version": 3
   },
   "file_extension": ".py",
   "mimetype": "text/x-python",
   "name": "python",
   "nbconvert_exporter": "python",
   "pygments_lexer": "ipython3",
   "version": "3.7.6"
  }
 },
 "nbformat": 4,
 "nbformat_minor": 4
}
